{
 "cells": [
  {
   "cell_type": "code",
   "execution_count": 31,
   "metadata": {},
   "outputs": [],
   "source": [
    "import numpy as np\n",
    "from pathlib import Path\n",
    "import spacy\n",
    "from zipfile import ZipFile\n",
    "import pandas as pd\n",
    "import json\n",
    "import os"
   ]
  },
  {
   "cell_type": "code",
   "execution_count": 38,
   "metadata": {},
   "outputs": [],
   "source": [
    "CORPUS = \"snli_1.0.zip\"\n",
    "MAPPING = {\"contradiction\": -1,\n",
    "           \"neutral\": 0, \n",
    "           \"entailment\": 1}"
   ]
  },
  {
   "cell_type": "markdown",
   "metadata": {},
   "source": [
    "#### Data Reading / Converting"
   ]
  },
  {
   "cell_type": "code",
   "execution_count": 67,
   "metadata": {},
   "outputs": [],
   "source": [
    "def get_data(data):\n",
    "    for d in data:\n",
    "        prem = d[\"sentence1\"]\n",
    "        hyp = d[\"sentence2\"]\n",
    "        label = d[\"gold_label\"]\n",
    "        if label != \"-\":\n",
    "            yield prem, hyp, label"
   ]
  },
  {
   "cell_type": "code",
   "execution_count": 68,
   "metadata": {},
   "outputs": [],
   "source": [
    "def prepare_data(prefix=\"test\", folder=\"snli_1.0\"):\n",
    "    filename = os.path.join(folder, folder+\"_\"+prefix+\".jsonl\")\n",
    "    with ZipFile(CORPUS) as f:\n",
    "        with f.open(filename) as f_in, open(prefix+\".txt\", \"w+\") as f_out:\n",
    "            lines = (json.loads(line.decode()) for line in f_in) \n",
    "            f_out.write(\"\\t\".join([\"sentence1\", \"sentence2\", \"gold_label\"])+\"\\n\")\n",
    "            for record in get_data(lines):\n",
    "                f_out.write(\"\\t\".join(record)+\"\\n\")"
   ]
  },
  {
   "cell_type": "code",
   "execution_count": 69,
   "metadata": {},
   "outputs": [],
   "source": [
    "def read_prepared(prefix, sep=\"\\t\"):\n",
    "    df = pd.read_csv(prefix+\".txt\", sep=sep)\n",
    "    return df"
   ]
  },
  {
   "cell_type": "code",
   "execution_count": 70,
   "metadata": {},
   "outputs": [],
   "source": [
    "for prefix in [\"test\", \"dev\", \"train\"]:\n",
    "    prepare_data(prefix)"
   ]
  },
  {
   "cell_type": "code",
   "execution_count": 71,
   "metadata": {},
   "outputs": [],
   "source": [
    "df_dev = read_prepared(\"dev\")\n",
    "df_test = read_prepared(\"test\")\n",
    "df_train = read_prepared(\"train\")"
   ]
  },
  {
   "cell_type": "code",
   "execution_count": 63,
   "metadata": {},
   "outputs": [
    {
     "data": {
      "text/plain": [
       "(550152, 3)"
      ]
     },
     "execution_count": 63,
     "metadata": {},
     "output_type": "execute_result"
    },
    {
     "data": {
      "text/plain": [
       "(10000, 3)"
      ]
     },
     "execution_count": 63,
     "metadata": {},
     "output_type": "execute_result"
    },
    {
     "data": {
      "text/plain": [
       "(10000, 3)"
      ]
     },
     "execution_count": 63,
     "metadata": {},
     "output_type": "execute_result"
    }
   ],
   "source": [
    "df_train.shape\n",
    "df_test.shape\n",
    "df_dev.shape"
   ]
  },
  {
   "cell_type": "code",
   "execution_count": 75,
   "metadata": {},
   "outputs": [
    {
     "data": {
      "text/plain": [
       "entailment       0.333868\n",
       "contradiction    0.333451\n",
       "neutral          0.332681\n",
       "Name: gold_label, dtype: float64"
      ]
     },
     "execution_count": 75,
     "metadata": {},
     "output_type": "execute_result"
    },
    {
     "data": {
      "text/plain": [
       "entailment       0.342834\n",
       "contradiction    0.329499\n",
       "neutral          0.327667\n",
       "Name: gold_label, dtype: float64"
      ]
     },
     "execution_count": 75,
     "metadata": {},
     "output_type": "execute_result"
    },
    {
     "data": {
      "text/plain": [
       "entailment       0.338244\n",
       "contradiction    0.333062\n",
       "neutral          0.328693\n",
       "Name: gold_label, dtype: float64"
      ]
     },
     "execution_count": 75,
     "metadata": {},
     "output_type": "execute_result"
    }
   ],
   "source": [
    "df_train.gold_label.value_counts(normalize=True)\n",
    "df_test.gold_label.value_counts(normalize=True)\n",
    "df_dev.gold_label.value_counts(normalize=True)"
   ]
  },
  {
   "cell_type": "markdown",
   "metadata": {},
   "source": [
    "#### Feature Building"
   ]
  },
  {
   "cell_type": "code",
   "execution_count": null,
   "metadata": {},
   "outputs": [],
   "source": []
  }
 ],
 "metadata": {
  "kernelspec": {
   "display_name": "Python 3",
   "language": "python",
   "name": "python3"
  },
  "language_info": {
   "codemirror_mode": {
    "name": "ipython",
    "version": 3
   },
   "file_extension": ".py",
   "mimetype": "text/x-python",
   "name": "python",
   "nbconvert_exporter": "python",
   "pygments_lexer": "ipython3",
   "version": "3.6.3"
  }
 },
 "nbformat": 4,
 "nbformat_minor": 2
}

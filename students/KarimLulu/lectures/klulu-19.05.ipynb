{
 "cells": [
  {
   "cell_type": "code",
   "execution_count": 442,
   "metadata": {},
   "outputs": [],
   "source": [
    "from pathlib import Path\n",
    "from collections import defaultdict, Counter\n",
    "from nltk.tokenize import word_tokenize\n",
    "from tokenize_uk.tokenize_uk import tokenize_words\n",
    "import numpy as np\n",
    "\n",
    "import keras\n",
    "from keras.preprocessing.text import Tokenizer\n",
    "from keras.preprocessing.sequence import pad_sequences\n",
    "from keras.layers import (Embedding, Input, Dense, Flatten, Conv1D, concatenate, \n",
    "                          Activation, LSTM, Dropout, Reshape, Lambda, TimeDistributed)\n",
    "from keras.utils import to_categorical\n",
    "from keras.preprocessing.sequence import pad_sequences\n",
    "from keras import regularizers, Model, Sequential\n",
    "from keras.models import load_model, Sequential\n",
    "import random"
   ]
  },
  {
   "cell_type": "markdown",
   "metadata": {},
   "source": [
    "#### N-Gram model"
   ]
  },
  {
   "cell_type": "code",
   "execution_count": 29,
   "metadata": {},
   "outputs": [],
   "source": [
    "filename_linux = \"linux_input.txt\"\n",
    "filename_kobzar = \"kobzar.txt\""
   ]
  },
  {
   "cell_type": "code",
   "execution_count": 7,
   "metadata": {},
   "outputs": [],
   "source": [
    "def zipngram(doc, n=2):\n",
    "    return zip(*[doc[i:] for i in range(n)])"
   ]
  },
  {
   "cell_type": "code",
   "execution_count": 361,
   "metadata": {},
   "outputs": [],
   "source": [
    "with open(filename_kobzar) as f:\n",
    "    data = f.read().lower()"
   ]
  },
  {
   "cell_type": "code",
   "execution_count": 362,
   "metadata": {},
   "outputs": [],
   "source": [
    "tokens = tokenize_words(data)"
   ]
  },
  {
   "cell_type": "code",
   "execution_count": 80,
   "metadata": {},
   "outputs": [],
   "source": [
    "def build_ngram(tokens, n=1, counts=False):\n",
    "    if n == 1:\n",
    "        c = Counter(tokens)\n",
    "        if counts:\n",
    "            return c\n",
    "        total = sum(c.values(), 0.0)\n",
    "        for key in c:\n",
    "            c[key] /= total\n",
    "        return c\n",
    "    else:\n",
    "        c = Counter(zipngram(tokens, n))\n",
    "        if counts:\n",
    "            return c\n",
    "        total = sum(c.values(), 0.0)\n",
    "        for key in c:\n",
    "            c[key] /= total\n",
    "        return c"
   ]
  },
  {
   "cell_type": "code",
   "execution_count": 81,
   "metadata": {},
   "outputs": [],
   "source": [
    "unigrams = build_ngram(tokens, n=1)\n",
    "bigrams = build_ngram(tokens, n=2, counts=False)\n",
    "three_grams = build_ngram(tokens, n=3)"
   ]
  },
  {
   "cell_type": "code",
   "execution_count": 82,
   "metadata": {},
   "outputs": [
    {
     "data": {
      "text/plain": [
       "0.03358648266122536"
      ]
     },
     "execution_count": 82,
     "metadata": {},
     "output_type": "execute_result"
    },
    {
     "data": {
      "text/plain": [
       "0.058276340551818136"
      ]
     },
     "execution_count": 82,
     "metadata": {},
     "output_type": "execute_result"
    }
   ],
   "source": [
    "bigrams[(\",\", \"що\")] / unigrams[\",\"]\n",
    "bigrams[(\",\", \"і\")] / unigrams[\",\"]"
   ]
  },
  {
   "cell_type": "code",
   "execution_count": 158,
   "metadata": {},
   "outputs": [],
   "source": [
    "def normalize(probs):\n",
    "    prob_factor = 1 / sum(probs)\n",
    "    return [prob_factor * p for p in probs]"
   ]
  },
  {
   "cell_type": "code",
   "execution_count": 352,
   "metadata": {},
   "outputs": [],
   "source": [
    "def sample(ngrams, keys):\n",
    "    probas = normalize([ngrams[key] for key in keys])\n",
    "    idx = np.random.choice(range(len(keys)), p=probas)\n",
    "    return keys[idx]"
   ]
  },
  {
   "cell_type": "code",
   "execution_count": 208,
   "metadata": {},
   "outputs": [],
   "source": [
    "def generate_bigram(word, bigrams):\n",
    "    keys = list(filter(lambda x: x[0]==word, bigrams))\n",
    "    if not keys:\n",
    "        return None\n",
    "    bigr = sample(bigrams, keys)\n",
    "    return bigr"
   ]
  },
  {
   "cell_type": "code",
   "execution_count": 203,
   "metadata": {},
   "outputs": [],
   "source": [
    "def generate_trigram(words, trigrams):\n",
    "    keys = list(filter(lambda x: x[:2]==words, trigrams))\n",
    "    if not keys:\n",
    "        return None\n",
    "    trigram = sample(trigrams, keys)\n",
    "    return trigram"
   ]
  },
  {
   "cell_type": "code",
   "execution_count": 360,
   "metadata": {},
   "outputs": [
    {
     "name": "stdout",
     "output_type": "stream",
     "text": [
      "як схочеш , серце поховати . може , дасть він мені шепче : « боже ж ти дівся , в . жуковським навесні 1838 викупили молодого поета з кріпацтва . перед\n"
     ]
    }
   ],
   "source": [
    "word = \"як\"\n",
    "N = 30\n",
    "sentence = [word]\n",
    "bigr = None\n",
    "for i in range(N):\n",
    "    if bigr:\n",
    "        trigram = generate_trigram(bigr, three_grams)\n",
    "        if trigram:\n",
    "            bigr = trigram[-2:]\n",
    "            word = trigram[-1]\n",
    "        else:   \n",
    "            bigr = generate_bigram(word, bigrams)\n",
    "            word = bigr[1]\n",
    "    else:\n",
    "        bigr = generate_bigram(word, bigrams)\n",
    "        word = bigr[1]\n",
    "    sentence.append(word)\n",
    "\n",
    "print(\" \".join(sentence))"
   ]
  },
  {
   "cell_type": "markdown",
   "metadata": {},
   "source": [
    "#### Character RNN"
   ]
  },
  {
   "cell_type": "code",
   "execution_count": 363,
   "metadata": {},
   "outputs": [],
   "source": [
    "import string"
   ]
  },
  {
   "cell_type": "code",
   "execution_count": 364,
   "metadata": {},
   "outputs": [],
   "source": [
    "alphabet = \"а, б, в, г, ґ, д, е, є, ж, з, и, і, ї, й, к, л, м, н, о, п, р, с, т, у, ф, х, ц, ч, ш, щ, ь, ю, я\"\n",
    "alphabet = alphabet.split(\", \") + list(string.punctuation+string.digits+string.whitespace)"
   ]
  },
  {
   "cell_type": "code",
   "execution_count": 366,
   "metadata": {},
   "outputs": [],
   "source": [
    "def build_vocab(data, alphabet):\n",
    "    char_index = {}\n",
    "    chars = []\n",
    "    for char in list(data):\n",
    "        if char in alphabet:\n",
    "            char_id = len(char_index) + 1\n",
    "            char_index[char] = char_index.get(char, char_id)\n",
    "            chars.append(char_index[char])\n",
    "    return chars, char_index"
   ]
  },
  {
   "cell_type": "code",
   "execution_count": 367,
   "metadata": {},
   "outputs": [],
   "source": [
    "data = list(filter(lambda x: x in alphabet, data))"
   ]
  },
  {
   "cell_type": "code",
   "execution_count": 369,
   "metadata": {},
   "outputs": [
    {
     "name": "stdout",
     "output_type": "stream",
     "text": [
      "total chars: 65\n",
      "nb sequences: 536242\n"
     ]
    }
   ],
   "source": [
    "chars = sorted(list(set(data)))\n",
    "print('total chars:', len(chars))\n",
    "char_indices = dict((c, i) for i, c in enumerate(chars))\n",
    "indices_char = dict((i, c) for i, c in enumerate(chars))\n",
    "\n",
    "# split the corpus into sequences of length=maxlen\n",
    "#input is a sequence of 40 chars and target is also a sequence of 40 chars shifted by one position\n",
    "#for eg: if you maxlen=3 and the text corpus is abcdefghi, your input ---> target pairs will be\n",
    "# [a,b,c] --> [b,c,d], [b,c,d]--->[c,d,e]....and so on\n",
    "maxlen = 40\n",
    "step = 1\n",
    "sentences = []\n",
    "next_chars = []\n",
    "for i in range(0, len(data) - maxlen+1, step):\n",
    "    sentences.append(data[i: i + maxlen]) #input seq is from i to i  + maxlen\n",
    "    next_chars.append(data[i+1:i +1+ maxlen]) # output seq is from i+1 to i+1+maxlen\n",
    "    #if i<10 :\n",
    "       # print (text[i: i + maxlen])\n",
    "        #print(text[i+1:i +1+ maxlen])\n",
    "print('nb sequences:', len(sentences))"
   ]
  },
  {
   "cell_type": "code",
   "execution_count": 418,
   "metadata": {},
   "outputs": [
    {
     "name": "stdout",
     "output_type": "stream",
     "text": [
      "Vectorization...\n"
     ]
    }
   ],
   "source": [
    "print('Vectorization...')\n",
    "X = np.zeros((len(sentences), maxlen, len(chars)), dtype=np.bool)\n",
    "y = np.zeros((len(sentences), maxlen, len(chars)), dtype=np.bool) # y is also a sequence , or  a seq of 1 hot vectors\n",
    "for i, sentence in enumerate(sentences):\n",
    "    #for t, char in enumerate(sentence):\n",
    "    idx = [(i, t, char_indices[c]) for t,c in enumerate(sentence)]\n",
    "    #X[i, t, char_indices[char]] = 1\n",
    "    X[tuple(zip(*idx))] = 1\n",
    "\n",
    "for i, sentence in enumerate(next_chars):\n",
    "    idx = [(i, t, char_indices[c]) for t,c in enumerate(sentence)]\n",
    "    y[tuple(zip(*idx))] = 1\n",
    "    #for t, char in enumerate(sentence):\n",
    "     #   y[i, t, char_indices[char]] = 1"
   ]
  },
  {
   "cell_type": "code",
   "execution_count": 507,
   "metadata": {},
   "outputs": [],
   "source": [
    "input_sent = Input(shape=(None, len(chars),))\n",
    "x = LSTM(256, input_shape=(None, len(chars)), return_sequences=True)(input_sent)\n",
    "x = Dropout(0.3)(x)\n",
    "x = TimeDistributed(Dense(len(chars)))(x)\n",
    "output = Activation(\"softmax\")(x)"
   ]
  },
  {
   "cell_type": "code",
   "execution_count": 508,
   "metadata": {},
   "outputs": [],
   "source": [
    "model = Model(inputs=input_sent, outputs=output)\n",
    "model.compile(loss='categorical_crossentropy',\n",
    "              optimizer='adagrad',\n",
    "              metrics=['acc'])"
   ]
  },
  {
   "cell_type": "code",
   "execution_count": 509,
   "metadata": {},
   "outputs": [
    {
     "name": "stdout",
     "output_type": "stream",
     "text": [
      "_________________________________________________________________\n",
      "Layer (type)                 Output Shape              Param #   \n",
      "=================================================================\n",
      "input_15 (InputLayer)        (None, None, 65)          0         \n",
      "_________________________________________________________________\n",
      "lstm_21 (LSTM)               (None, None, 256)         329728    \n",
      "_________________________________________________________________\n",
      "dropout_20 (Dropout)         (None, None, 256)         0         \n",
      "_________________________________________________________________\n",
      "time_distributed_17 (TimeDis (None, None, 65)          16705     \n",
      "_________________________________________________________________\n",
      "activation_15 (Activation)   (None, None, 65)          0         \n",
      "=================================================================\n",
      "Total params: 346,433\n",
      "Trainable params: 346,433\n",
      "Non-trainable params: 0\n",
      "_________________________________________________________________\n"
     ]
    }
   ],
   "source": [
    "model.summary()"
   ]
  },
  {
   "cell_type": "code",
   "execution_count": 518,
   "metadata": {},
   "outputs": [
    {
     "name": "stdout",
     "output_type": "stream",
     "text": [
      "Epoch 1/1\n",
      "536242/536242 [==============================] - 1883s 4ms/step - loss: 2.1376 - acc: 0.3583\n"
     ]
    },
    {
     "data": {
      "text/plain": [
       "<keras.callbacks.History at 0x7f15f6e5f0f0>"
      ]
     },
     "execution_count": 518,
     "metadata": {},
     "output_type": "execute_result"
    }
   ],
   "source": [
    "model.fit(X, y, batch_size=128, epochs=1)"
   ]
  },
  {
   "cell_type": "code",
   "execution_count": 524,
   "metadata": {},
   "outputs": [],
   "source": [
    "model.save(\"lstm_kobzar.h5\")"
   ]
  },
  {
   "cell_type": "code",
   "execution_count": 438,
   "metadata": {},
   "outputs": [],
   "source": [
    "# model = Sequential()\n",
    "# #model.add(LSTM(512, return_sequences=True, input_shape=(maxlen, len(chars))))  # original one\n",
    "# model.add(LSTM(10, input_shape=(None, len(chars)),return_sequences=True)) #minesh witout specifying the input_length\n",
    "# model.add(Dropout(0.2))\n",
    "# model.add(TimeDistributed(Dense(len(chars))))\n",
    "# model.add(Activation('softmax'))\n",
    "\n",
    "# model.compile(loss='categorical_crossentropy', optimizer='rmsprop')"
   ]
  },
  {
   "cell_type": "code",
   "execution_count": 439,
   "metadata": {},
   "outputs": [],
   "source": [
    "#model.fit(X[:100000], y[:100000], batch_size=128, epochs=1)"
   ]
  },
  {
   "cell_type": "code",
   "execution_count": 519,
   "metadata": {},
   "outputs": [],
   "source": [
    "def sample_char(probas, indices_char=indices_char):\n",
    "    idx = np.random.choice(range(len(probas)), p=probas)\n",
    "    return indices_char[idx]"
   ]
  },
  {
   "cell_type": "code",
   "execution_count": 523,
   "metadata": {},
   "outputs": [
    {
     "name": "stdout",
     "output_type": "stream",
     "text": [
      "Seed:  єй-богу, ярино,\n",
      "не жартую!..  та це й сп \n",
      "\n",
      "єй-богу, ярино,\n",
      "не жартую!..  та це й сполавули,\n",
      "що битьалось ізек,\n",
      "відив хнапі, ве чубривек ставо!..\n",
      "бусокнуботь гиматия \n",
      "та в'янея, мийеї й,\n",
      "і? в прамі голяб'ять\n",
      "як я від кає, теже буде!\n",
      "дрого, покущоє,\n",
      "нена чернокого-пропін,\n",
      "ригу неватвий деня!!. . ж ти моми\n",
      "і чарочої токоми,\n",
      "що кбернелисм йне з серок\n",
      "утитанцем в гаром продикали\n",
      "в сказі ж вого якої\n",
      "очтий \n"
     ]
    }
   ],
   "source": [
    "start_index = random.randint(0, len(data) - maxlen - 1)\n",
    "generated = ''\n",
    "sentence = \"\".join(data[start_index: start_index + maxlen])\n",
    "generated += sentence\n",
    "print('Seed: ', sentence, \"\\n\")\n",
    "\n",
    "for i in range(320):\n",
    "    x = np.zeros((1, maxlen, len(chars)))\n",
    "    for t, char in enumerate(sentence):\n",
    "        x[0, t, char_indices[char]] = 1.\n",
    "    preds = model.predict(x, verbose=0)[0][-1]\n",
    "    next_char = sample_char(preds)\n",
    "    sentence = sentence[1:] + next_char\n",
    "    generated += next_char\n",
    "\n",
    "print(generated)"
   ]
  }
 ],
 "metadata": {
  "kernelspec": {
   "display_name": "Python 3",
   "language": "python",
   "name": "python3"
  },
  "language_info": {
   "codemirror_mode": {
    "name": "ipython",
    "version": 3
   },
   "file_extension": ".py",
   "mimetype": "text/x-python",
   "name": "python",
   "nbconvert_exporter": "python",
   "pygments_lexer": "ipython3",
   "version": "3.6.3"
  }
 },
 "nbformat": 4,
 "nbformat_minor": 2
}

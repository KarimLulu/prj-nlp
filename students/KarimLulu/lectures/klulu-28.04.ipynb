{
 "cells": [
  {
   "cell_type": "code",
   "execution_count": 20,
   "metadata": {},
   "outputs": [],
   "source": [
    "import gensim\n",
    "import spacy\n",
    "import numpy as np\n",
    "from pathlib import Path\n",
    "from itertools import chain, islice\n",
    "from cytoolz import concat\n",
    "from time import time\n",
    "from sklearn.manifold import TSNE\n",
    "import matplotlib.pyplot as plt\n",
    "from sklearn.decomposition import PCA\n",
    "import json"
   ]
  },
  {
   "cell_type": "code",
   "execution_count": 2,
   "metadata": {},
   "outputs": [],
   "source": [
    "nlp = spacy.load('en', disable=[\"ner\", \"textcat\"])"
   ]
  },
  {
   "cell_type": "code",
   "execution_count": 3,
   "metadata": {},
   "outputs": [],
   "source": [
    "filename = \"SMSSpamCollection.txt\""
   ]
  },
  {
   "cell_type": "code",
   "execution_count": 4,
   "metadata": {},
   "outputs": [],
   "source": [
    "def preprocess(line):\n",
    "    text = line.split(\"\\t\")[-1].strip()\n",
    "    return text\n",
    "\n",
    "def normalize_token(token):\n",
    "    if token.lemma_ != \"-PRON-\":\n",
    "        return token.lemma_\n",
    "    return token.lower_\n",
    "\n",
    "def construct_token(token):\n",
    "    return normalize_token(token) + \"_\" + token.pos_\n",
    "\n",
    "def add_boundaries(sentence):\n",
    "    tokens = [\"<S>\"]\n",
    "    tokens.extend([construct_token(token) for token in sentence])\n",
    "    tokens.append(\"</S>\")\n",
    "    return tokens\n",
    "\n",
    "def get_sentences(doc):\n",
    "    return [add_boundaries(sent) for sent in doc.sents]"
   ]
  },
  {
   "cell_type": "code",
   "execution_count": 133,
   "metadata": {},
   "outputs": [],
   "source": [
    "class Reader(object):\n",
    "    \n",
    "    def __init__(self, filename):\n",
    "        self.filename = filename\n",
    "        self.prepared_filename = \"prepared_\" + self.filename\n",
    "        self._vocabulary = False\n",
    "    \n",
    "    def get_data(self):\n",
    "        with open(self.filename) as f_in, open(self.prepared_filename, \"w+\") as f_out:\n",
    "            texts = (preprocess(line) for line in f_in)\n",
    "            docs = nlp.pipe(texts, disable=[\"ner\", \"textcat\"])#, batch_size=500, n_threads=4)\n",
    "            sents = concat(get_sentences(doc) for doc in docs )\n",
    "            for sent in sents:\n",
    "                f_out.write(json.dumps(sent)+\"\\n\")\n",
    "                yield sent\n",
    "        self._vocabulary = True\n",
    "    \n",
    "    def get_prepared_data(self):\n",
    "        with open(self.prepared_filename) as f:\n",
    "            for k,line in enumerate(f):\n",
    "                sent = json.loads(line.strip())\n",
    "                yield sent\n",
    "        \n",
    "    def __iter__(self):\n",
    "        if self._vocabulary:\n",
    "            return self.get_prepared_data()\n",
    "        else:\n",
    "            return self.get_data()"
   ]
  },
  {
   "cell_type": "code",
   "execution_count": 134,
   "metadata": {},
   "outputs": [
    {
     "name": "stdout",
     "output_type": "stream",
     "text": [
      "Spent: 25.063\n"
     ]
    }
   ],
   "source": [
    "t0 = time()\n",
    "data = Reader(filename)\n",
    "model1 = gensim.models.Word2Vec(data, size=10, window=3, min_count=1, iter=20, sg=0, \n",
    "                                negative=10, workers=8, seed=5, compute_loss=True)\n",
    "print(f\"Spent: {time()-t0:.3f}\")"
   ]
  },
  {
   "cell_type": "code",
   "execution_count": 135,
   "metadata": {},
   "outputs": [
    {
     "data": {
      "text/plain": [
       "1025800.625"
      ]
     },
     "execution_count": 135,
     "metadata": {},
     "output_type": "execute_result"
    }
   ],
   "source": [
    "model1.get_latest_training_loss()"
   ]
  },
  {
   "cell_type": "code",
   "execution_count": 156,
   "metadata": {},
   "outputs": [
    {
     "name": "stdout",
     "output_type": "stream",
     "text": [
      "Spent: 20.793\n"
     ]
    }
   ],
   "source": [
    "t0 = time()\n",
    "with open(filename) as file:\n",
    "    texts = (preprocess(line) for line in file)\n",
    "    docs = nlp.pipe(texts, disable=[\"ner\", \"textcat\"])#, batch_size=500, n_threads=4)\n",
    "    sents = list(concat(get_sentences(doc) for doc in docs))\n",
    "    model = gensim.models.Word2Vec(sents, size=10, window=3, min_count=1, iter=10, sg=0, \n",
    "                                    negative=5, workers=8, seed=5, compute_loss=True)\n",
    "print(f\"Spent: {time()-t0:.3f}\")"
   ]
  },
  {
   "cell_type": "code",
   "execution_count": 157,
   "metadata": {},
   "outputs": [
    {
     "data": {
      "text/plain": [
       "array([[ 0.21341272,  0.5213052 , -2.0154915 , ..., -1.4942038 ,\n",
       "         1.8003622 , -0.19996892],\n",
       "       [-2.4826162 ,  1.364773  , -2.3824754 , ..., -2.033111  ,\n",
       "         1.4778873 ,  1.2724034 ],\n",
       "       [ 0.23243481,  1.8228145 , -0.7413015 , ..., -1.6479363 ,\n",
       "         2.3170695 , -1.3159939 ],\n",
       "       ...,\n",
       "       [-0.09825307,  0.0210263 , -0.02673768, ..., -0.09607616,\n",
       "         0.1276138 , -0.01351917],\n",
       "       [-0.00576536, -0.03284713,  0.0160141 , ..., -0.06041109,\n",
       "         0.03704417,  0.00561708],\n",
       "       [ 0.03998662,  0.00454564, -0.00780358, ..., -0.04418023,\n",
       "         0.08800822, -0.02005707]], dtype=float32)"
      ]
     },
     "execution_count": 157,
     "metadata": {},
     "output_type": "execute_result"
    }
   ],
   "source": [
    "model.wv.vectors"
   ]
  },
  {
   "cell_type": "code",
   "execution_count": 158,
   "metadata": {},
   "outputs": [
    {
     "data": {
      "text/plain": [
       "368399.375"
      ]
     },
     "execution_count": 158,
     "metadata": {},
     "output_type": "execute_result"
    }
   ],
   "source": [
    "model.get_latest_training_loss()"
   ]
  },
  {
   "cell_type": "code",
   "execution_count": 119,
   "metadata": {},
   "outputs": [],
   "source": [
    "model.save(\"w2v.model\")"
   ]
  },
  {
   "cell_type": "code",
   "execution_count": 54,
   "metadata": {},
   "outputs": [
    {
     "name": "stdout",
     "output_type": "stream",
     "text": [
      "The vocabulary contains 10707 tokens.\n"
     ]
    }
   ],
   "source": [
    "print(\"The vocabulary contains {} tokens.\".format(len(model.wv.vocab)))"
   ]
  },
  {
   "cell_type": "code",
   "execution_count": 148,
   "metadata": {},
   "outputs": [
    {
     "data": {
      "text/plain": [
       "['%_NOUN']"
      ]
     },
     "execution_count": 148,
     "metadata": {},
     "output_type": "execute_result"
    }
   ],
   "source": [
    "sample_words = [word for word in model.wv.vocab if \"%\" in word]\n",
    "sample_words"
   ]
  },
  {
   "cell_type": "code",
   "execution_count": 149,
   "metadata": {},
   "outputs": [
    {
     "data": {
      "text/plain": [
       "[('worth_NOUN', 0.9604555368423462),\n",
       " ('genuine_ADJ', 0.9459621906280518),\n",
       " ('video_PROPN', 0.942803680896759),\n",
       " ('special_PROPN', 0.9298160076141357),\n",
       " ('lotr_PROPN', 0.9297105669975281),\n",
       " ('supply_NOUN', 0.9219450950622559),\n",
       " ('music_PROPN', 0.9212424159049988),\n",
       " ('puzzle_NOUN', 0.917346179485321),\n",
       " ('pert_NOUN', 0.9109663367271423),\n",
       " ('xma_NOUN', 0.9063178300857544),\n",
       " ('homeowner_NOUN', 0.9057468771934509),\n",
       " ('artist_NOUN', 0.9018898606300354),\n",
       " ('subscription_PROPN', 0.8977100849151611),\n",
       " ('cd_PROPN', 0.897445797920227),\n",
       " ('tenant_NOUN', 0.8938726782798767),\n",
       " ('pdate_now_ADV', 0.8925958871841431),\n",
       " ('logo_NOUN', 0.8925094604492188),\n",
       " ('house_PROPN', 0.8894658088684082),\n",
       " ('mystery_NOUN', 0.8891306519508362),\n",
       " ('world_PROPN', 0.888996958732605)]"
      ]
     },
     "execution_count": 149,
     "metadata": {},
     "output_type": "execute_result"
    }
   ],
   "source": [
    "model.wv.most_similar(positive=[#\"sale_NOUN\", \"sale_PROPN\", \n",
    "                                #\"free_ADJ\", \"free_PROPN\", \"free_ADV\", \"free_VERB\",\n",
    "                               \"discount_NOUN\"\n",
    "                               # \"£_SYM\",\n",
    "                                #\"%_NOUN\"\n",
    "                                ], topn=20)"
   ]
  },
  {
   "cell_type": "code",
   "execution_count": 150,
   "metadata": {},
   "outputs": [
    {
     "data": {
      "text/plain": [
       "0.5119567440379406"
      ]
     },
     "execution_count": 150,
     "metadata": {},
     "output_type": "execute_result"
    }
   ],
   "source": [
    "model.wv.similarity(\"cash_NOUN\", \"free_ADV\")"
   ]
  },
  {
   "cell_type": "code",
   "execution_count": 151,
   "metadata": {},
   "outputs": [
    {
     "data": {
      "text/plain": [
       "0.0765639661157946"
      ]
     },
     "execution_count": 151,
     "metadata": {},
     "output_type": "execute_result"
    }
   ],
   "source": [
    "model.wv.similarity(\"free_ADV\", \"woman_NOUN\")"
   ]
  },
  {
   "cell_type": "code",
   "execution_count": 90,
   "metadata": {},
   "outputs": [
    {
     "data": {
      "text/plain": [
       "'lunch_NOUN'"
      ]
     },
     "execution_count": 90,
     "metadata": {},
     "output_type": "execute_result"
    }
   ],
   "source": [
    "model.wv.doesnt_match([\"lunch_NOUN\", \"discount_NOUN\", \"free_ADV\"])"
   ]
  },
  {
   "cell_type": "code",
   "execution_count": 159,
   "metadata": {},
   "outputs": [
    {
     "name": "stderr",
     "output_type": "stream",
     "text": [
      "/home/karimlulu/anaconda3/lib/python3.6/site-packages/ipykernel_launcher.py:1: DeprecationWarning: Call to deprecated `__getitem__` (Method will be removed in 4.0.0, use self.wv.__getitem__() instead).\n",
      "  \"\"\"Entry point for launching an IPython kernel.\n"
     ]
    },
    {
     "data": {
      "image/png": "[encoded data removed]",
      "text/plain": [
       "<matplotlib.figure.Figure at 0x7fb120f1df60>"
      ]
     },
     "metadata": {},
     "output_type": "display_data"
    }
   ],
   "source": [
    "X = model[model.wv.vocab]\n",
    "pca = PCA(n_components=2)\n",
    "result = pca.fit_transform(X)\n",
    "# create a scatter plot of the projection\n",
    "plt.scatter(result[:, 0], result[:, 1])\n",
    "words = list(model.wv.vocab)\n",
    "for i, word in enumerate(words):\n",
    "    plt.annotate(word, xy=(result[i, 0], result[i, 1]))\n",
    "plt.show()"
   ]
  },
  {
   "cell_type": "code",
   "execution_count": 155,
   "metadata": {},
   "outputs": [],
   "source": [
    "#%matplotlib inline\n",
    "# https://www.kaggle.com/jeffd23/visualizing-word-vectors-with-t-sne\n",
    "def tsne_plot(title, model):\n",
    "    \"Creates and TSNE model and plots it\"\n",
    "    labels = []\n",
    "    tokens = []\n",
    "\n",
    "    for word in model.wv.vocab:\n",
    "        tokens.append(model[word])\n",
    "        labels.append(word)\n",
    "    \n",
    "    tsne_model = TSNE(perplexity=40, n_components=2, init='pca', n_iter=2500, random_state=23)\n",
    "    new_values = tsne_model.fit_transform(tokens)\n",
    "\n",
    "    x = []\n",
    "    y = []\n",
    "    for value in new_values:\n",
    "        x.append(value[0])\n",
    "        y.append(value[1])\n",
    "        \n",
    "    plt.figure(figsize=(16, 16))\n",
    "    plt.title(title)\n",
    "    for i in range(len(x)):\n",
    "        plt.scatter(x[i],y[i])\n",
    "        plt.annotate(labels[i],\n",
    "                     xy=(x[i], y[i]),\n",
    "                     xytext=(5, 2),\n",
    "                     textcoords='offset points',\n",
    "                     ha='right',\n",
    "                     va='bottom')\n",
    "    plt.show()"
   ]
  },
  {
   "cell_type": "code",
   "execution_count": null,
   "metadata": {},
   "outputs": [],
   "source": [
    "tsne_plot(\"vectors\", model)"
   ]
  }
 ],
 "metadata": {
  "kernelspec": {
   "display_name": "Python 3",
   "language": "python",
   "name": "python3"
  },
  "language_info": {
   "codemirror_mode": {
    "name": "ipython",
    "version": 3
   },
   "file_extension": ".py",
   "mimetype": "text/x-python",
   "name": "python",
   "nbconvert_exporter": "python",
   "pygments_lexer": "ipython3",
   "version": "3.6.3"
  }
 },
 "nbformat": 4,
 "nbformat_minor": 2
}

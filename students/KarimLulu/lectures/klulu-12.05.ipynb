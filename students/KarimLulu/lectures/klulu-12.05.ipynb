{
 "cells": [
  {
   "cell_type": "code",
   "execution_count": 334,
   "metadata": {},
   "outputs": [],
   "source": [
    "import keras\n",
    "from keras.preprocessing.text import Tokenizer\n",
    "from keras.preprocessing.sequence import pad_sequences\n",
    "from keras.layers import Embedding, Input, Dense, Flatten, Conv1D, concatenate, Activation\n",
    "from keras.utils import to_categorical\n",
    "from keras.preprocessing.sequence import pad_sequences\n",
    "from sklearn import metrics\n",
    "from keras import Model, Sequential\n",
    "import numpy as np\n",
    "from conllu import parse, parse_tree\n",
    "from pathlib import Path\n",
    "import os\n",
    "from collections import OrderedDict\n",
    "import bz2"
   ]
  },
  {
   "cell_type": "code",
   "execution_count": null,
   "metadata": {},
   "outputs": [],
   "source": [
    "class Metrics(keras.callbacks.Callback):\n",
    "    def on_train_begin(self, logs={}):\n",
    "        self.f1s = []\n",
    "        \n",
    "    def on_epoch_end(self, batch, logs={}):\n",
    "        probas = np.asarray(self.model.predict(self.validation_data[0]))\n",
    "        targ = np.argmax(self.validation_data[1], axis=1)\n",
    "        predict = np.argmax(probas, axis=1)\n",
    "        self.f1s.append(metrics.f1_score(targ, predict, average=\"weighted\"))\n",
    "        return\n",
    "\n",
    "metrs = Metrics()"
   ]
  },
  {
   "cell_type": "code",
   "execution_count": 10,
   "metadata": {},
   "outputs": [],
   "source": [
    "vec_filename = \"ubercorpus.lowercased.tokenized.300d.bz2\""
   ]
  },
  {
   "cell_type": "code",
   "execution_count": 55,
   "metadata": {},
   "outputs": [],
   "source": [
    "def read_embeddings(filename=vec_filename, word_index=None):\n",
    "    word_2_vec = {}\n",
    "    with bz2.open(filename, \"rt\") as f:\n",
    "        words, ndim = map(int, f.readline().strip().split())\n",
    "        for line in f:\n",
    "            values = line.split()\n",
    "            word = values[0]\n",
    "            if words:\n",
    "                if word in word_index:\n",
    "                    vec = np.asarray(values[1:], dtype=np.float32)\n",
    "                    word_2_vec[word] = vec\n",
    "            else:\n",
    "                vec = np.asarray(values[1:], dtype=np.float32)\n",
    "                word_2_vec[word] = vec\n",
    "    return word_2_vec, ndim, words"
   ]
  },
  {
   "cell_type": "code",
   "execution_count": 57,
   "metadata": {},
   "outputs": [],
   "source": [
    "ROOT = OrderedDict([('id', 0), ('form', 'ROOT'), ('lemma', 'ROOT'), ('upostag', \"ROOT\"),\n",
    "                    ('xpostag', None), ('feats', None), ('head', None), ('deprel', None),\n",
    "                    ('deps', None), ('misc', None)])"
   ]
  },
  {
   "cell_type": "code",
   "execution_count": 72,
   "metadata": {},
   "outputs": [],
   "source": [
    "data_dir = Path.home() / \"repos/UD_Ukrainian-IU\"\n",
    "\n",
    "with list(data_dir.glob(\"*train*\"))[0].open() as f:\n",
    "    data = f.read()\n",
    "trees = parse(data)\n",
    "\n",
    "with list(data_dir.glob(\"*test*\"))[0].open() as f:\n",
    "    test_data = f.read()\n",
    "test_trees = parse(test_data)"
   ]
  },
  {
   "cell_type": "code",
   "execution_count": 383,
   "metadata": {},
   "outputs": [
    {
     "name": "stdout",
     "output_type": "stream",
     "text": [
      "У 1 <- домі\n",
      "домі 2 <- була\n",
      "римського 3 <- патриція\n",
      "патриція 4 <- домі\n",
      "Руфіна 5 <- патриція\n",
      "була 6 <- root\n",
      "прегарна 7 <- фреска\n",
      "фреска 8 <- була\n",
      ", 9 <- зображення\n",
      "зображення 10 <- фреска\n",
      "Венери 11 <- зображення\n",
      "та 12 <- Адоніса\n",
      "Адоніса 13 <- Венери\n",
      ". 14 <- була\n"
     ]
    }
   ],
   "source": [
    "tree = trees[0]\n",
    "for node in tree:\n",
    "    head = node[\"head\"]\n",
    "    print(\"{} {} <- {}\".format(node[\"form\"], node[\"id\"], tree[head-1][\"form\"] if head>0 else \"root\"))"
   ]
  },
  {
   "cell_type": "code",
   "execution_count": 377,
   "metadata": {},
   "outputs": [],
   "source": [
    "def get_childs(word, tree):\n",
    "    return [w for w in tree if w[\"head\"]==word[\"id\"]]"
   ]
  },
  {
   "cell_type": "code",
   "execution_count": 392,
   "metadata": {},
   "outputs": [],
   "source": [
    "def get_heights(tree, res=None, word=None, k=0):\n",
    "    if res is None:\n",
    "        res = {0: 0}\n",
    "        k = 1\n",
    "    if word is None:\n",
    "        word = [w for w in tree if not w[\"head\"]][0]\n",
    "        res[word[\"id\"]] = k\n",
    "    for child in get_childs(word, tree):\n",
    "        res[child[\"id\"]] = k + 1\n",
    "        get_height(tree, res, child, k+1)\n",
    "    return res"
   ]
  },
  {
   "cell_type": "code",
   "execution_count": 408,
   "metadata": {},
   "outputs": [],
   "source": [
    "def build_vocabulary(trees, form=\"form\"):\n",
    "    word_index = {}\n",
    "    label_index = {}\n",
    "    pos_index = {}\n",
    "    records = []\n",
    "    labels = []\n",
    "    for tree in trees:\n",
    "        heights = get_heights(tree)\n",
    "        for word in tree:\n",
    "            deprel = word[\"deprel\"]\n",
    "            word_t = word[form].lower()\n",
    "            head = tree[word[\"head\"]-1] if word[\"head\"] else ROOT\n",
    "            head_t = head[form]\n",
    "            word_pos = word[\"upostag\"]\n",
    "            head_pos = tree[word[\"head\"]-1][\"upostag\"] if word[\"head\"] else ROOT[\"upostag\"]\n",
    "            \n",
    "            if deprel not in label_index:\n",
    "                label_id = len(label_index)\n",
    "                label_index[deprel] = label_id\n",
    "            else:\n",
    "                label_id = label_index.get(deprel)\n",
    "            \n",
    "            if word_t not in word_index:\n",
    "                word_id = len(word_index)\n",
    "                word_index[word_t] = word_id\n",
    "            else:\n",
    "                word_id = word_index[word_t]\n",
    "            \n",
    "            if head_t not in word_index:\n",
    "                head_id = len(word_index)\n",
    "                word_index[head_t] = head_id\n",
    "            else:\n",
    "                head_id = word_index[head_t]\n",
    "            \n",
    "            if word_pos not in pos_index:\n",
    "                word_pos_id = len(pos_index)\n",
    "                pos_index[word_pos] = word_pos_id\n",
    "            else:\n",
    "                word_pos_id = pos_index[word_pos]\n",
    "    \n",
    "            if head_pos not in pos_index:\n",
    "                head_pos_id = len(pos_index)\n",
    "                pos_index[head_pos] = head_pos_id\n",
    "            else:\n",
    "                head_pos_id = pos_index[head_pos]\n",
    "                \n",
    "            dist = word[\"id\"] - head[\"id\"]\n",
    "            height_diff = heights[word[\"id\"]] - heights[head[\"id\"]]\n",
    "            n_l_child_word = len([_ for w in tree if w[\"head\"]==word[\"id\"] and w[\"id\"]<word[\"id\"]])\n",
    "            n_r_child_word = len([_ for w in tree if w[\"head\"]==word[\"id\"] and w[\"id\"]>word[\"id\"]])\n",
    "            n_l_child_head = len([_ for w in tree if w[\"head\"]==head[\"id\"] and w[\"id\"]<head[\"id\"]])\n",
    "            n_r_child_head = len([_ for w in tree if w[\"head\"]==head[\"id\"] and w[\"id\"]>head[\"id\"]])\n",
    "            \n",
    "            features = [dist, height_diff, n_l_child_word, n_r_child_word, n_r_child_head, n_l_child_head]\n",
    "            records.append((word_id, head_id, word_pos_id, head_pos_id, *features))\n",
    "            labels.append(label_id)\n",
    "            #features.append(feature_vector)\n",
    "    return records, labels, word_index, label_index, pos_index, len(features)"
   ]
  },
  {
   "cell_type": "code",
   "execution_count": 386,
   "metadata": {},
   "outputs": [],
   "source": [
    "n_train = np.sum([len(tree) for tree in trees])"
   ]
  },
  {
   "cell_type": "code",
   "execution_count": 409,
   "metadata": {},
   "outputs": [],
   "source": [
    "records, labels, word_index, label_index, pos_index, n_feat = build_vocabulary(trees+test_trees)\n",
    "labels = to_categorical(np.asarray(labels))\n",
    "X = np.asarray(records)"
   ]
  },
  {
   "cell_type": "code",
   "execution_count": 410,
   "metadata": {},
   "outputs": [],
   "source": [
    "X_train, X_test = X[:n_train], X[n_train:]\n",
    "y_train, y_test = labels[:n_train], labels[n_train:]"
   ]
  },
  {
   "cell_type": "code",
   "execution_count": null,
   "metadata": {},
   "outputs": [],
   "source": [
    "word_2_vec, ndim, _ = read_embeddings(word_index=word_index)"
   ]
  },
  {
   "cell_type": "code",
   "execution_count": 209,
   "metadata": {},
   "outputs": [],
   "source": [
    "DEFAULT_VEC = np.zeros(ndim, np.float32)"
   ]
  },
  {
   "cell_type": "code",
   "execution_count": 326,
   "metadata": {},
   "outputs": [],
   "source": [
    "embedding_matrix = np.zeros((len(word_index), ndim))\n",
    "for word, i in word_index.items():\n",
    "    embedding_matrix[i] = word_2_vec.get(word, DEFAULT_VEC)"
   ]
  },
  {
   "cell_type": "code",
   "execution_count": 412,
   "metadata": {},
   "outputs": [],
   "source": [
    "word_embedding_layer = Embedding(len(word_index),\n",
    "                            ndim,\n",
    "                            weights=[embedding_matrix],\n",
    "                            input_length=2,\n",
    "                            trainable=0\n",
    "                           )"
   ]
  },
  {
   "cell_type": "code",
   "execution_count": 413,
   "metadata": {},
   "outputs": [],
   "source": [
    "pos_embedding_layer = Embedding(len(pos_index),\n",
    "                                ndim,\n",
    "                                input_length=2,\n",
    "                                trainable=1\n",
    "                               )"
   ]
  },
  {
   "cell_type": "code",
   "execution_count": 414,
   "metadata": {},
   "outputs": [],
   "source": [
    "word_sequence_input = Input(shape=(2,), dtype='int32')\n",
    "word_embedded_sequences = word_embedding_layer(word_sequence_input)"
   ]
  },
  {
   "cell_type": "code",
   "execution_count": 415,
   "metadata": {},
   "outputs": [],
   "source": [
    "pos_sequence_input = Input(shape=(2,), dtype='int32')\n",
    "pos_embedded_sequences = pos_embedding_layer(pos_sequence_input)"
   ]
  },
  {
   "cell_type": "code",
   "execution_count": 416,
   "metadata": {},
   "outputs": [],
   "source": [
    "features = Input(shape=(n_feat,))"
   ]
  },
  {
   "cell_type": "code",
   "execution_count": 417,
   "metadata": {},
   "outputs": [],
   "source": [
    "left = Flatten()(word_embedded_sequences)\n",
    "right = Flatten()(pos_embedded_sequences)\n",
    "x = concatenate(inputs=[left, right, features])\n",
    "x = Dense(200)(x)\n",
    "x = Dense(100, activation='relu')(x)\n",
    "preds = Dense(len(label_index), activation='softmax')(x)"
   ]
  },
  {
   "cell_type": "code",
   "execution_count": 418,
   "metadata": {},
   "outputs": [],
   "source": [
    "model = Model(inputs=[word_sequence_input, pos_sequence_input, features], outputs=preds)\n",
    "model.compile(loss='categorical_crossentropy',\n",
    "              optimizer='rmsprop',\n",
    "              metrics=['acc'])"
   ]
  },
  {
   "cell_type": "code",
   "execution_count": null,
   "metadata": {},
   "outputs": [],
   "source": [
    "model.summary()"
   ]
  },
  {
   "cell_type": "code",
   "execution_count": 419,
   "metadata": {},
   "outputs": [
    {
     "name": "stdout",
     "output_type": "stream",
     "text": [
      "Train on 75098 samples, validate on 14939 samples\n",
      "Epoch 1/5\n",
      "75098/75098 [==============================] - 9s 114us/step - loss: 0.4579 - acc: 0.8683 - val_loss: 0.3309 - val_acc: 0.8966\n",
      "Epoch 2/5\n",
      "75098/75098 [==============================] - 8s 100us/step - loss: 0.2731 - acc: 0.9095 - val_loss: 0.3190 - val_acc: 0.9019\n",
      "Epoch 3/5\n",
      "75098/75098 [==============================] - 8s 101us/step - loss: 0.2335 - acc: 0.9222 - val_loss: 0.3157 - val_acc: 0.9041\n",
      "Epoch 4/5\n",
      "75098/75098 [==============================] - 8s 105us/step - loss: 0.2060 - acc: 0.9306 - val_loss: 0.3091 - val_acc: 0.9044\n",
      "Epoch 5/5\n",
      "75098/75098 [==============================] - 8s 105us/step - loss: 0.1824 - acc: 0.9384 - val_loss: 0.3269 - val_acc: 0.9017\n"
     ]
    },
    {
     "data": {
      "text/plain": [
       "<keras.callbacks.History at 0x7f21b78b2438>"
      ]
     },
     "execution_count": 419,
     "metadata": {},
     "output_type": "execute_result"
    }
   ],
   "source": [
    "model.fit([X_train[:, :2], X_train[:, 2:4], X_train[:, 4:]], y_train, \n",
    "          validation_data=([X_test[:, :2], X_test[:, 2:4], X_test[:, 4:]], y_test), \n",
    "          epochs=5, \n",
    "          batch_size=128, \n",
    "          verbose=1)"
   ]
  }
 ],
 "metadata": {
  "kernelspec": {
   "display_name": "Python 3",
   "language": "python",
   "name": "python3"
  },
  "language_info": {
   "codemirror_mode": {
    "name": "ipython",
    "version": 3
   },
   "file_extension": ".py",
   "mimetype": "text/x-python",
   "name": "python",
   "nbconvert_exporter": "python",
   "pygments_lexer": "ipython3",
   "version": "3.6.3"
  }
 },
 "nbformat": 4,
 "nbformat_minor": 2
}

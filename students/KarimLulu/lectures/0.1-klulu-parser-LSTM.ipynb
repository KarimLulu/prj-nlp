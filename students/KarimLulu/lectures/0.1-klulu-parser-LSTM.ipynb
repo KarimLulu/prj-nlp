{
 "cells": [
  {
   "cell_type": "code",
   "execution_count": 1,
   "metadata": {},
   "outputs": [],
   "source": [
    "%load_ext autoreload"
   ]
  },
  {
   "cell_type": "code",
   "execution_count": 2,
   "metadata": {},
   "outputs": [],
   "source": [
    "%autoreload 1"
   ]
  },
  {
   "cell_type": "code",
   "execution_count": 426,
   "metadata": {},
   "outputs": [],
   "source": [
    "import keras\n",
    "from keras.preprocessing.text import Tokenizer\n",
    "from keras.preprocessing.sequence import pad_sequences\n",
    "from keras.layers import Embedding, Input, Dense, Flatten, Conv1D, concatenate, Activation, LSTM, Dropout\n",
    "from keras.utils import to_categorical\n",
    "from keras.preprocessing.sequence import pad_sequences\n",
    "from keras import regularizers, Model, Sequential\n",
    "from keras.models import load_model\n",
    "from sklearn import metrics\n",
    "import numpy as np\n",
    "from conllu import parse, parse_tree\n",
    "from pathlib import Path\n",
    "import os\n",
    "from collections import OrderedDict\n",
    "import bz2\n",
    "import json\n",
    "import dill"
   ]
  },
  {
   "cell_type": "code",
   "execution_count": 13,
   "metadata": {},
   "outputs": [],
   "source": [
    "%aimport parser\n",
    "from parser import Parser\n",
    "\n",
    "%aimport helpers\n",
    "from helpers import read_embeddings, ROOT"
   ]
  },
  {
   "cell_type": "code",
   "execution_count": 7,
   "metadata": {},
   "outputs": [],
   "source": [
    "vec_filename = \"ubercorpus.lowercased.tokenized.300d.bz2\""
   ]
  },
  {
   "cell_type": "code",
   "execution_count": 129,
   "metadata": {},
   "outputs": [],
   "source": [
    "data_dir = Path.home() / \"repos/UD_Ukrainian-IU\"\n",
    "\n",
    "with list(data_dir.glob(\"*train*\"))[0].open() as f:\n",
    "    data = f.read()\n",
    "trees = parse(data)\n",
    "\n",
    "with list(data_dir.glob(\"*test*\"))[0].open() as f:\n",
    "    test_data = f.read()\n",
    "test_trees = parse(test_data)\n",
    "\n",
    "n_train = np.sum([len(tree) for tree in trees])"
   ]
  },
  {
   "cell_type": "code",
   "execution_count": 250,
   "metadata": {},
   "outputs": [],
   "source": [
    "def build_vocabulary(trees, form=\"form\"):\n",
    "    word_index = {}\n",
    "    pos_index = {}\n",
    "    dep_index = {}\n",
    "    for tree in trees:\n",
    "        for word in tree:\n",
    "            deprel = word[\"deprel\"]\n",
    "            word_id = len(word_index)+1\n",
    "            pos_id = len(pos_index)+1\n",
    "            dep_id = len(dep_index)+1\n",
    "            word_t = word[form].lower()\n",
    "            word_pos = word[\"upostag\"]\n",
    "            word_index[word_t] = word_index.get(word_t, word_id)\n",
    "            pos_index[word_pos] = pos_index.get(word_pos, pos_id)\n",
    "            dep_index[deprel] = dep_index.get(deprel, dep_id)\n",
    "\n",
    "    word_index[ROOT[\"form\"]] = len(word_index)+1\n",
    "    pos_index[ROOT[\"upostag\"]] = len(pos_index)+1\n",
    "    return word_index, pos_index, dep_index"
   ]
  },
  {
   "cell_type": "code",
   "execution_count": 22,
   "metadata": {},
   "outputs": [],
   "source": [
    "def get_data(trees, parser):\n",
    "    o_labels = []\n",
    "    o_features = []\n",
    "    for tree in trees:\n",
    "        labels, features, _ = parser.parse(tree)\n",
    "        o_labels.extend(labels)\n",
    "        o_features.extend(features)\n",
    "    return o_labels, o_features"
   ]
  },
  {
   "cell_type": "code",
   "execution_count": 251,
   "metadata": {},
   "outputs": [],
   "source": [
    "word_index, pos_index, dep_index = build_vocabulary(trees+test_trees)"
   ]
  },
  {
   "cell_type": "code",
   "execution_count": 28,
   "metadata": {},
   "outputs": [],
   "source": [
    "word_2_vec, ndim, _ = read_embeddings(filename=vec_filename, word_index=word_index)"
   ]
  },
  {
   "cell_type": "code",
   "execution_count": 29,
   "metadata": {},
   "outputs": [],
   "source": [
    "DEFAULT_VEC = np.zeros(ndim, np.float32)"
   ]
  },
  {
   "cell_type": "code",
   "execution_count": 30,
   "metadata": {},
   "outputs": [],
   "source": [
    "embedding_matrix = np.zeros((len(word_index)+1, ndim))\n",
    "for word, i in word_index.items():\n",
    "    embedding_matrix[i] = word_2_vec.get(word, DEFAULT_VEC)"
   ]
  },
  {
   "cell_type": "code",
   "execution_count": 203,
   "metadata": {},
   "outputs": [],
   "source": [
    " def get_stack_context(depth, stack, data):\n",
    "        if depth >= 3:\n",
    "            return data[stack[-1][\"id\"]], data[stack[-2][\"id\"]], data[stack[-3][\"id\"]]\n",
    "        elif depth >= 2:\n",
    "            return data[stack[-1][\"id\"]], data[stack[-2][\"id\"]], 0\n",
    "        elif depth == 1:\n",
    "            return data[stack[-1][\"id\"]], 0, 0\n",
    "        else:\n",
    "            return 0, 0, 0"
   ]
  },
  {
   "cell_type": "code",
   "execution_count": 204,
   "metadata": {},
   "outputs": [],
   "source": [
    "def get_buffer_context(k, buffer, data):\n",
    "        if k >= 3:\n",
    "            return data[buffer[0][\"id\"]], data[buffer[1][\"id\"]], data[buffer[2][\"id\"]]\n",
    "        elif k >= 2:\n",
    "            return data[buffer[0][\"id\"]], data[buffer[1][\"id\"]], 0\n",
    "        elif k == 1:\n",
    "            return data[buffer[0][\"id\"]], 0, 0\n",
    "        else:\n",
    "            return 0, 0, 0"
   ]
  },
  {
   "cell_type": "code",
   "execution_count": 436,
   "metadata": {},
   "outputs": [],
   "source": [
    "def get_parse_context(word, deps, data):\n",
    "    if not word or word == -1:\n",
    "        return 0, \"\", \"\"\n",
    "    deps = deps[word[\"id\"]]\n",
    "    num = len(deps)\n",
    "    if not num:\n",
    "        return num, \"\", \"\"\n",
    "    elif num==1:\n",
    "        return num, data[deps[-1]-1], \"\"\n",
    "    else:\n",
    "        return num, data[deps[-1]-1], data[deps[-1]-1]"
   ]
  },
  {
   "cell_type": "code",
   "execution_count": 237,
   "metadata": {},
   "outputs": [],
   "source": [
    "def feature_builder(stack, queue, tree, parse=None, word_index=word_index, pos_index=pos_index, dep_index=dep_index, form=\"form\"):\n",
    "    words = []\n",
    "    tags = []\n",
    "    deps = []\n",
    "    depth = len(stack)\n",
    "    q_len = len(queue)\n",
    "    if ROOT not in tree:\n",
    "        tree = [ROOT, *tree]\n",
    "    \n",
    "    s0, s1, s2 = get_stack_context(depth, stack, tree)\n",
    "    q0, q1, q2 = get_buffer_context(q_len, queue, tree)\n",
    "\n",
    "    for x in [s0, s1, s2, q0, q1, q2]:\n",
    "        if x:\n",
    "            word = x[form].lower() if x[\"id\"] else \"ROOT\"\n",
    "            word_idx = word_index.get(word)\n",
    "            pos_idx = pos_index.get(x[\"upostag\"])\n",
    "            words.append(word_idx)\n",
    "            tags.append(pos_idx)\n",
    "        else:\n",
    "            words.append(x)\n",
    "            tags.append(x)\n",
    "    \n",
    "    features = [*words, *tags, *deps]\n",
    "    return features, len(words), len(tags), len(deps)"
   ]
  },
  {
   "cell_type": "code",
   "execution_count": 238,
   "metadata": {},
   "outputs": [],
   "source": [
    "def get_data(trees, parser, feature_extractor):\n",
    "    o_labels = []\n",
    "    o_features = []\n",
    "    for tree in trees:\n",
    "        labels, features, _, n_w, n_t, n_d = parser.parse(tree, feature_extractor=feature_extractor)\n",
    "        o_labels.extend(labels)\n",
    "        o_features.extend(features)\n",
    "    return o_labels, o_features, n_w, n_t, n_d"
   ]
  },
  {
   "cell_type": "code",
   "execution_count": 267,
   "metadata": {},
   "outputs": [],
   "source": [
    "parser = Parser()"
   ]
  },
  {
   "cell_type": "code",
   "execution_count": 392,
   "metadata": {},
   "outputs": [],
   "source": [
    "labels, features, n_w, n_t, n_d = get_data(trees+test_trees, parser, feature_builder)\n",
    "X = np.asarray(features)\n",
    "y = to_categorical(np.asarray(labels))"
   ]
  },
  {
   "cell_type": "code",
   "execution_count": 396,
   "metadata": {},
   "outputs": [],
   "source": [
    "X_train, X_test = X[:n_train], X[n_train:]\n",
    "y_train, y_test = y[:n_train], y[n_train:]"
   ]
  },
  {
   "cell_type": "code",
   "execution_count": 368,
   "metadata": {},
   "outputs": [],
   "source": [
    "word_embedding_layer = Embedding(len(word_index)+1,\n",
    "                            ndim,\n",
    "                            weights=[embedding_matrix],\n",
    "                            input_length=n_w,\n",
    "                            trainable=0\n",
    "                           )"
   ]
  },
  {
   "cell_type": "code",
   "execution_count": 442,
   "metadata": {},
   "outputs": [],
   "source": [
    "pos_embedding_layer = Embedding(len(pos_index)+1,\n",
    "                                100,\n",
    "                                input_length=n_t,\n",
    "                                trainable=1\n",
    "                               )"
   ]
  },
  {
   "cell_type": "code",
   "execution_count": 443,
   "metadata": {},
   "outputs": [],
   "source": [
    "word_sequence_input = Input(shape=(n_w,), dtype='int32')\n",
    "word_embedded_sequences = word_embedding_layer(word_sequence_input)"
   ]
  },
  {
   "cell_type": "code",
   "execution_count": 444,
   "metadata": {},
   "outputs": [],
   "source": [
    "pos_sequence_input = Input(shape=(n_t,), dtype='int32')\n",
    "pos_embedded_sequences = pos_embedding_layer(pos_sequence_input)"
   ]
  },
  {
   "cell_type": "code",
   "execution_count": 445,
   "metadata": {},
   "outputs": [],
   "source": [
    "left = Flatten()(word_embedded_sequences)\n",
    "right = Flatten()(pos_embedded_sequences)\n",
    "x = concatenate(inputs=[left, right], axis=-1)\n",
    "#x = concatenate(inputs=[word_embedded_sequences, pos_embedded_sequences], axis=1)\n",
    "#x = LSTM(256)(x)\n",
    "x = Dense(200, activation=\"relu\",\n",
    "          kernel_regularizer=regularizers.l2(1e-8))(x)\n",
    "x = Dropout(0.3)(x)\n",
    "preds = Dense(len(parser.label_index), activation='softmax',\n",
    "             kernel_regularizer=regularizers.l2(1e-8))(x)"
   ]
  },
  {
   "cell_type": "code",
   "execution_count": 446,
   "metadata": {},
   "outputs": [],
   "source": [
    "model = Model(inputs=[word_sequence_input, pos_sequence_input], outputs=preds)\n",
    "model.compile(loss='categorical_crossentropy',\n",
    "              optimizer='adagrad',\n",
    "              metrics=['acc'])"
   ]
  },
  {
   "cell_type": "code",
   "execution_count": 447,
   "metadata": {},
   "outputs": [
    {
     "name": "stdout",
     "output_type": "stream",
     "text": [
      "__________________________________________________________________________________________________\n",
      "Layer (type)                    Output Shape         Param #     Connected to                     \n",
      "==================================================================================================\n",
      "input_9 (InputLayer)            (None, 6)            0                                            \n",
      "__________________________________________________________________________________________________\n",
      "input_10 (InputLayer)           (None, 6)            0                                            \n",
      "__________________________________________________________________________________________________\n",
      "embedding_7 (Embedding)         (None, 6, 300)       7751400     input_9[0][0]                    \n",
      "__________________________________________________________________________________________________\n",
      "embedding_11 (Embedding)        (None, 6, 100)       1900        input_10[0][0]                   \n",
      "__________________________________________________________________________________________________\n",
      "flatten_94 (Flatten)            (None, 1800)         0           embedding_7[2][0]                \n",
      "__________________________________________________________________________________________________\n",
      "flatten_95 (Flatten)            (None, 600)          0           embedding_11[0][0]               \n",
      "__________________________________________________________________________________________________\n",
      "concatenate_60 (Concatenate)    (None, 2400)         0           flatten_94[0][0]                 \n",
      "                                                                 flatten_95[0][0]                 \n",
      "__________________________________________________________________________________________________\n",
      "dense_24 (Dense)                (None, 200)          480200      concatenate_60[0][0]             \n",
      "__________________________________________________________________________________________________\n",
      "dropout_6 (Dropout)             (None, 200)          0           dense_24[0][0]                   \n",
      "__________________________________________________________________________________________________\n",
      "dense_25 (Dense)                (None, 64)           12864       dropout_6[0][0]                  \n",
      "==================================================================================================\n",
      "Total params: 8,246,364\n",
      "Trainable params: 494,964\n",
      "Non-trainable params: 7,751,400\n",
      "__________________________________________________________________________________________________\n"
     ]
    }
   ],
   "source": [
    "model.summary()"
   ]
  },
  {
   "cell_type": "code",
   "execution_count": 448,
   "metadata": {},
   "outputs": [
    {
     "name": "stdout",
     "output_type": "stream",
     "text": [
      "Train on 75098 samples, validate on 110272 samples\n",
      "Epoch 1/6\n",
      "75098/75098 [==============================] - 9s 116us/step - loss: 0.7370 - acc: 0.7842 - val_loss: 0.6584 - val_acc: 0.7870\n",
      "Epoch 2/6\n",
      "75098/75098 [==============================] - 8s 111us/step - loss: 0.4946 - acc: 0.8437 - val_loss: 0.6176 - val_acc: 0.7976\n",
      "Epoch 3/6\n",
      "75098/75098 [==============================] - 9s 115us/step - loss: 0.4355 - acc: 0.8590 - val_loss: 0.6046 - val_acc: 0.8005\n",
      "Epoch 4/6\n",
      "75098/75098 [==============================] - 8s 103us/step - loss: 0.3997 - acc: 0.8726 - val_loss: 0.5976 - val_acc: 0.8031\n",
      "Epoch 5/6\n",
      "75098/75098 [==============================] - 8s 109us/step - loss: 0.3725 - acc: 0.8812 - val_loss: 0.5887 - val_acc: 0.8058\n",
      "Epoch 6/6\n",
      "75098/75098 [==============================] - 8s 106us/step - loss: 0.3505 - acc: 0.8877 - val_loss: 0.5880 - val_acc: 0.8062\n"
     ]
    },
    {
     "data": {
      "text/plain": [
       "<keras.callbacks.History at 0x7fd4f9320438>"
      ]
     },
     "execution_count": 448,
     "metadata": {},
     "output_type": "execute_result"
    }
   ],
   "source": [
    "model.fit([X_train[:, :n_w], X_train[:, n_w:n_w+n_t],], y_train, \n",
    "          validation_data=([X_test[:, :n_w], X_test[:, n_w:n_w+n_t]], y_test), \n",
    "          epochs=6, \n",
    "          batch_size=128, \n",
    "          verbose=1)"
   ]
  }
 ],
 "metadata": {
  "kernelspec": {
   "display_name": "Python 3",
   "language": "python",
   "name": "python3"
  },
  "language_info": {
   "codemirror_mode": {
    "name": "ipython",
    "version": 3
   },
   "file_extension": ".py",
   "mimetype": "text/x-python",
   "name": "python",
   "nbconvert_exporter": "python",
   "pygments_lexer": "ipython3",
   "version": "3.6.0"
  }
 },
 "nbformat": 4,
 "nbformat_minor": 2
}

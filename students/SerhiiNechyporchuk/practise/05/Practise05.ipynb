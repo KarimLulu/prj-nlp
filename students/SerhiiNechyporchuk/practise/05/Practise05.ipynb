{
 "cells": [
  {
   "cell_type": "code",
   "execution_count": 145,
   "metadata": {},
   "outputs": [],
   "source": [
    "import pandas as pd\n",
    "from sklearn.model_selection import train_test_split\n",
    "from sklearn.feature_extraction.text import CountVectorizer\n",
    "from sklearn.naive_bayes import MultinomialNB\n",
    "from sklearn.pipeline import Pipeline\n",
    "import numpy as np\n",
    "pd.set_option('display.max_colwidth', 200)"
   ]
  },
  {
   "cell_type": "code",
   "execution_count": 58,
   "metadata": {},
   "outputs": [],
   "source": [
    "df = pd.read_csv('spam.csv', encoding='latin-1', names=['y', 'x', 'u0', 'u1', 'u2'], skiprows=1)[['y', 'x']]"
   ]
  },
  {
   "cell_type": "code",
   "execution_count": 59,
   "metadata": {},
   "outputs": [],
   "source": [
    "df_train, df_test = train_test_split(df, test_size=0.3)"
   ]
  },
  {
   "cell_type": "code",
   "execution_count": 60,
   "metadata": {},
   "outputs": [],
   "source": [
    "df_train.to_csv('train.csv')\n",
    "df_test.to_csv('test.csv')"
   ]
  },
  {
   "cell_type": "code",
   "execution_count": 73,
   "metadata": {},
   "outputs": [],
   "source": [
    "pipe1 = Pipeline(\n",
    "    [('vectorizer', CountVectorizer()),\n",
    "     ('classifier', MultinomialNB())])"
   ]
  },
  {
   "cell_type": "code",
   "execution_count": 75,
   "metadata": {},
   "outputs": [
    {
     "data": {
      "text/plain": [
       "0.9935897435897436"
      ]
     },
     "execution_count": 75,
     "metadata": {},
     "output_type": "execute_result"
    }
   ],
   "source": [
    "pipe1.fit(df_train.x, df_train.y)\n",
    "pipe1.score(df_train.x, df_train.y)"
   ]
  },
  {
   "cell_type": "code",
   "execution_count": 64,
   "metadata": {},
   "outputs": [
    {
     "data": {
      "text/plain": [
       "7188"
      ]
     },
     "execution_count": 64,
     "metadata": {},
     "output_type": "execute_result"
    }
   ],
   "source": [
    "len(pipe.named_steps.vectorizer.vocabulary_)"
   ]
  },
  {
   "cell_type": "code",
   "execution_count": 76,
   "metadata": {},
   "outputs": [],
   "source": [
    "pipe2 = Pipeline(\n",
    "    [('vectorizer', CountVectorizer())])"
   ]
  },
  {
   "cell_type": "code",
   "execution_count": 245,
   "metadata": {},
   "outputs": [],
   "source": [
    "X = pd.DataFrame(pipe2.fit_transform(df_train.x[102:104]).todense(), index=df_train[102:104].index)\n",
    "y = (df_train.y[102:104] == 'spam').astype(int)"
   ]
  },
  {
   "cell_type": "code",
   "execution_count": 318,
   "metadata": {},
   "outputs": [
    {
     "data": {
      "text/plain": [
       "array([1, 0])"
      ]
     },
     "execution_count": 318,
     "metadata": {},
     "output_type": "execute_result"
    }
   ],
   "source": [
    "def pr_ll(X, y):\n",
    "    cs = np.sort(y.unique())\n",
    "    ll = np.zeros((len(cs), X.shape[1]))\n",
    "    for c in cs:\n",
    "        Xc = X[y==c]\n",
    "        per_word_counts = np.sum(Xc, axis=0)\n",
    "        per_word_prob = per_word_counts / np.sum(np.sum(per_word_counts))\n",
    "        per_word_prob[per_word_prob == 0] = 0.0001\n",
    "        ll[c, :] = per_word_prob\n",
    "\n",
    "    pr = np.array([[np.sum(y == cs[0]), np.sum(y == cs[1])]])/y.shape[0]\n",
    "    return (pr, ll)\n",
    "    \n",
    "(pr, ll) = pr_ll(X, y)\n",
    "\n",
    "X0 = X[0:1]\n",
    "y0 = y[0:1]\n",
    "\n",
    "\n",
    "def predict(X, pr, ll):\n",
    "    cs = np.sort(y.unique())\n",
    "    xcps = []\n",
    "    for Xi in X.values:\n",
    "        cps = []\n",
    "        for c in range(pr.shape[1]):    \n",
    "            ps = []\n",
    "            for i, xi in enumerate(Xi):\n",
    "                ps.append(ll[c][i]*xi or 0.0000001)\n",
    "            ps = np.exp(np.sum(np.log(ps)))\n",
    "            cps.append(ps)\n",
    "        cps = cps/np.sum(cps)\n",
    "        xcps.append(cps)\n",
    "    return np.array(xcps)\n",
    "np.argmax(predict(X, pr, ll), axis=0)"
   ]
  },
  {
   "cell_type": "code",
   "execution_count": 319,
   "metadata": {},
   "outputs": [],
   "source": [
    "class NB:\n",
    "    def __init__(self, **args):\n",
    "        pass\n",
    "    \n",
    "    def fit(self, X, y):\n",
    "        (pr, ll) = pr_ll(X, y)\n",
    "        self.pr = pr\n",
    "        self.ll = ll\n",
    "        \n",
    "    def predict(self, X):\n",
    "        return np.argmax(predict(X, self.pr, self.ll), axis=0)"
   ]
  },
  {
   "cell_type": "code",
   "execution_count": 320,
   "metadata": {},
   "outputs": [
    {
     "data": {
      "text/plain": [
       "array([1, 0])"
      ]
     },
     "execution_count": 320,
     "metadata": {},
     "output_type": "execute_result"
    }
   ],
   "source": [
    "nb = NB()\n",
    "nb.fit(X, y)\n",
    "nb.predict(X)"
   ]
  },
  {
   "cell_type": "code",
   "execution_count": null,
   "metadata": {},
   "outputs": [],
   "source": []
  }
 ],
 "metadata": {
  "kernelspec": {
   "display_name": "Python 3",
   "language": "python",
   "name": "python3"
  },
  "language_info": {
   "codemirror_mode": {
    "name": "ipython",
    "version": 3
   },
   "file_extension": ".py",
   "mimetype": "text/x-python",
   "name": "python",
   "nbconvert_exporter": "python",
   "pygments_lexer": "ipython3",
   "version": "3.6.0"
  }
 },
 "nbformat": 4,
 "nbformat_minor": 2
}
